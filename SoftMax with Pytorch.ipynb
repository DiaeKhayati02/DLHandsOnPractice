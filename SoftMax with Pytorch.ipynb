{
 "cells": [
  {
   "cell_type": "code",
   "execution_count": 2,
   "id": "98d105db",
   "metadata": {},
   "outputs": [],
   "source": [
    "import matplotlib.pyplot as plt\n",
    "import pandas as pd\n",
    "import torch\n",
    "import torch.nn.functional as F"
   ]
  },
  {
   "cell_type": "code",
   "execution_count": 3,
   "id": "07756ad6",
   "metadata": {},
   "outputs": [
    {
     "data": {
      "text/html": [
       "<div>\n",
       "<style scoped>\n",
       "    .dataframe tbody tr th:only-of-type {\n",
       "        vertical-align: middle;\n",
       "    }\n",
       "\n",
       "    .dataframe tbody tr th {\n",
       "        vertical-align: top;\n",
       "    }\n",
       "\n",
       "    .dataframe thead th {\n",
       "        text-align: right;\n",
       "    }\n",
       "</style>\n",
       "<table border=\"1\" class=\"dataframe\">\n",
       "  <thead>\n",
       "    <tr style=\"text-align: right;\">\n",
       "      <th></th>\n",
       "      <th>Id</th>\n",
       "      <th>SepalLengthCm</th>\n",
       "      <th>SepalWidthCm</th>\n",
       "      <th>PetalLengthCm</th>\n",
       "      <th>PetalWidthCm</th>\n",
       "      <th>Species</th>\n",
       "    </tr>\n",
       "  </thead>\n",
       "  <tbody>\n",
       "    <tr>\n",
       "      <th>0</th>\n",
       "      <td>1</td>\n",
       "      <td>5.1</td>\n",
       "      <td>3.5</td>\n",
       "      <td>1.4</td>\n",
       "      <td>0.2</td>\n",
       "      <td>Iris-setosa</td>\n",
       "    </tr>\n",
       "    <tr>\n",
       "      <th>1</th>\n",
       "      <td>2</td>\n",
       "      <td>4.9</td>\n",
       "      <td>3.0</td>\n",
       "      <td>1.4</td>\n",
       "      <td>0.2</td>\n",
       "      <td>Iris-setosa</td>\n",
       "    </tr>\n",
       "    <tr>\n",
       "      <th>2</th>\n",
       "      <td>3</td>\n",
       "      <td>4.7</td>\n",
       "      <td>3.2</td>\n",
       "      <td>1.3</td>\n",
       "      <td>0.2</td>\n",
       "      <td>Iris-setosa</td>\n",
       "    </tr>\n",
       "    <tr>\n",
       "      <th>3</th>\n",
       "      <td>4</td>\n",
       "      <td>4.6</td>\n",
       "      <td>3.1</td>\n",
       "      <td>1.5</td>\n",
       "      <td>0.2</td>\n",
       "      <td>Iris-setosa</td>\n",
       "    </tr>\n",
       "    <tr>\n",
       "      <th>4</th>\n",
       "      <td>5</td>\n",
       "      <td>5.0</td>\n",
       "      <td>3.6</td>\n",
       "      <td>1.4</td>\n",
       "      <td>0.2</td>\n",
       "      <td>Iris-setosa</td>\n",
       "    </tr>\n",
       "  </tbody>\n",
       "</table>\n",
       "</div>"
      ],
      "text/plain": [
       "   Id  SepalLengthCm  SepalWidthCm  PetalLengthCm  PetalWidthCm      Species\n",
       "0   1            5.1           3.5            1.4           0.2  Iris-setosa\n",
       "1   2            4.9           3.0            1.4           0.2  Iris-setosa\n",
       "2   3            4.7           3.2            1.3           0.2  Iris-setosa\n",
       "3   4            4.6           3.1            1.5           0.2  Iris-setosa\n",
       "4   5            5.0           3.6            1.4           0.2  Iris-setosa"
      ]
     },
     "execution_count": 3,
     "metadata": {},
     "output_type": "execute_result"
    }
   ],
   "source": [
    "df = pd.read_csv('Iris.csv')\n",
    "df.head()\n"
   ]
  },
  {
   "cell_type": "code",
   "execution_count": 4,
   "id": "fbe153ef",
   "metadata": {},
   "outputs": [],
   "source": [
    "array = df.values\n",
    "X, y = array[:,1:5] , array[:,5]"
   ]
  },
  {
   "cell_type": "code",
   "execution_count": 5,
   "id": "81e91957",
   "metadata": {},
   "outputs": [],
   "source": [
    "y = df['Species'].map({'Iris-setosa':0 , 'Iris-versicolor':1 , 'Iris-virginica':2\n",
    "})\n"
   ]
  },
  {
   "cell_type": "code",
   "execution_count": 6,
   "id": "99377d7e",
   "metadata": {},
   "outputs": [],
   "source": [
    "from sklearn.model_selection import train_test_split\n",
    "X_train,X_test,y_train,y_test = train_test_split(X,y,test_size=0.2)\n",
    "from sklearn.preprocessing import StandardScaler\n",
    "sc = StandardScaler()\n",
    "X_train = sc.fit_transform(X_train)\n",
    "X_test = sc.transform (X_test)"
   ]
  },
  {
   "cell_type": "code",
   "execution_count": 7,
   "id": "fba06dfa",
   "metadata": {},
   "outputs": [
    {
     "data": {
      "image/png": "[encoded data removed]",
      "text/plain": [
       "<Figure size 700x250 with 2 Axes>"
      ]
     },
     "metadata": {},
     "output_type": "display_data"
    }
   ],
   "source": [
    "fig, ax = plt.subplots(1, 2, figsize=(7, 2.5))\n",
    "ax[0].scatter(X_train[y_train == 2, 0], X_train[y_train == 2, 1])\n",
    "ax[0].scatter(X_train[y_train == 1, 0], X_train[y_train == 1, 1], marker='v')\n",
    "ax[0].scatter(X_train[y_train == 0, 0], X_train[y_train == 0, 1], marker='s')\n",
    "ax[1].scatter(X_test[y_test == 2, 0], X_test[y_test == 2, 1])\n",
    "ax[1].scatter(X_test[y_test == 1, 0], X_test[y_test == 1, 1], marker='v')\n",
    "ax[1].scatter(X_test[y_test == 0, 0], X_test[y_test == 0, 1], marker='s')\n",
    "plt.show()\n"
   ]
  },
  {
   "cell_type": "code",
   "execution_count": 8,
   "id": "c2eeeac9",
   "metadata": {},
   "outputs": [],
   "source": [
    "# dataframe / array to tensor\n",
    "X_train_tensor, X_test_tensor = torch.Tensor(X_train),torch.Tensor(X_test)\n",
    "y_train_tensor, y_test_tensor = torch.Tensor(y_train.values),torch.Tensor(y_test.\n",
    "values)"
   ]
  },
  {
   "cell_type": "code",
   "execution_count": 9,
   "id": "632ac2e2",
   "metadata": {},
   "outputs": [],
   "source": [
    "class SoftmaxRegression(torch.nn.Module):\n",
    "    def __init__(self, num_features, num_classes):\n",
    "        super(SoftmaxRegression, self).__init__()\n",
    "        self.linear = torch.nn.Linear(num_features, num_classes)\n",
    "        # initialize weights to zeros here,\n",
    "        # since we used zero weights in the\n",
    "        # manual approach\n",
    "        self.linear.weight.detach().zero_()\n",
    "        self.linear.bias.detach().zero_()\n",
    "        # Note: the trailing underscore\n",
    "        # means \"in-place operation\" in the context\n",
    "        # of PyTorch\n",
    "    def forward(self, x):\n",
    "        logits = self.linear(x)\n",
    "        probas = F.softmax(logits, dim=1)\n",
    "        return logits, probas\n",
    "    def predict_labels(self, x):\n",
    "        logits, probas = self.forward(x)\n",
    "        labels = torch.argmax(probas, dim=1)\n",
    "        return labels\n",
    "    def evaluate(self, x, y):\n",
    "        labels = self.predict_labels(x).float()\n",
    "        accuracy = torch.sum(labels.view(-1) == y.float()).item() / y.size(0)\n",
    "        return accuracy\n"
   ]
  },
  {
   "cell_type": "code",
   "execution_count": 11,
   "id": "d60b3c41",
   "metadata": {},
   "outputs": [],
   "source": [
    "model2 = SoftmaxRegression(num_features=4, num_classes=3)\n",
    "optimizer = torch.optim.SGD(model2.parameters(), lr=0.1)\n"
   ]
  },
  {
   "cell_type": "code",
   "execution_count": 12,
   "id": "cc24c6a6",
   "metadata": {},
   "outputs": [],
   "source": [
    "def comp_accuracy(true_labels, pred_labels):\n",
    "    accuracy = torch.sum(true_labels.view(-1).float() == pred_labels.float()).item() / true_labels.size(0)\n",
    "\n",
    "    return accuracy\n"
   ]
  },
  {
   "cell_type": "code",
   "execution_count": 16,
   "id": "bbe06833",
   "metadata": {},
   "outputs": [
    {
     "name": "stdout",
     "output_type": "stream",
     "text": [
      "Epoch: 001 | Train ACC: 0.825 | Cost: 0.392\n",
      "Epoch: 002 | Train ACC: 0.825 | Cost: 0.390\n",
      "Epoch: 003 | Train ACC: 0.833 | Cost: 0.388\n",
      "Epoch: 004 | Train ACC: 0.833 | Cost: 0.386\n",
      "Epoch: 005 | Train ACC: 0.833 | Cost: 0.384\n",
      "Epoch: 006 | Train ACC: 0.833 | Cost: 0.382\n",
      "Epoch: 007 | Train ACC: 0.833 | Cost: 0.380\n",
      "Epoch: 008 | Train ACC: 0.833 | Cost: 0.379\n",
      "Epoch: 009 | Train ACC: 0.833 | Cost: 0.377\n",
      "Epoch: 010 | Train ACC: 0.833 | Cost: 0.375\n",
      "Epoch: 011 | Train ACC: 0.833 | Cost: 0.374\n",
      "Epoch: 012 | Train ACC: 0.833 | Cost: 0.372\n",
      "Epoch: 013 | Train ACC: 0.833 | Cost: 0.370\n",
      "Epoch: 014 | Train ACC: 0.833 | Cost: 0.369\n",
      "Epoch: 015 | Train ACC: 0.833 | Cost: 0.367\n",
      "Epoch: 016 | Train ACC: 0.833 | Cost: 0.366\n",
      "Epoch: 017 | Train ACC: 0.833 | Cost: 0.364\n",
      "Epoch: 018 | Train ACC: 0.833 | Cost: 0.363\n",
      "Epoch: 019 | Train ACC: 0.833 | Cost: 0.361\n",
      "Epoch: 020 | Train ACC: 0.833 | Cost: 0.360\n",
      "Epoch: 021 | Train ACC: 0.833 | Cost: 0.359\n",
      "Epoch: 022 | Train ACC: 0.833 | Cost: 0.357\n",
      "Epoch: 023 | Train ACC: 0.833 | Cost: 0.356\n",
      "Epoch: 024 | Train ACC: 0.833 | Cost: 0.355\n",
      "Epoch: 025 | Train ACC: 0.842 | Cost: 0.353\n",
      "Epoch: 026 | Train ACC: 0.842 | Cost: 0.352\n",
      "Epoch: 027 | Train ACC: 0.842 | Cost: 0.351\n",
      "Epoch: 028 | Train ACC: 0.842 | Cost: 0.350\n",
      "Epoch: 029 | Train ACC: 0.842 | Cost: 0.348\n",
      "Epoch: 030 | Train ACC: 0.842 | Cost: 0.347\n",
      "Epoch: 031 | Train ACC: 0.842 | Cost: 0.346\n",
      "Epoch: 032 | Train ACC: 0.850 | Cost: 0.345\n",
      "Epoch: 033 | Train ACC: 0.850 | Cost: 0.344\n",
      "Epoch: 034 | Train ACC: 0.850 | Cost: 0.343\n",
      "Epoch: 035 | Train ACC: 0.850 | Cost: 0.342\n",
      "Epoch: 036 | Train ACC: 0.850 | Cost: 0.340\n",
      "Epoch: 037 | Train ACC: 0.850 | Cost: 0.339\n",
      "Epoch: 038 | Train ACC: 0.850 | Cost: 0.338\n",
      "Epoch: 039 | Train ACC: 0.850 | Cost: 0.337\n",
      "Epoch: 040 | Train ACC: 0.850 | Cost: 0.336\n",
      "Epoch: 041 | Train ACC: 0.850 | Cost: 0.335\n",
      "Epoch: 042 | Train ACC: 0.850 | Cost: 0.334\n",
      "Epoch: 043 | Train ACC: 0.850 | Cost: 0.333\n",
      "Epoch: 044 | Train ACC: 0.858 | Cost: 0.332\n",
      "Epoch: 045 | Train ACC: 0.858 | Cost: 0.331\n",
      "Epoch: 046 | Train ACC: 0.858 | Cost: 0.330\n",
      "Epoch: 047 | Train ACC: 0.858 | Cost: 0.329\n",
      "Epoch: 048 | Train ACC: 0.867 | Cost: 0.328\n",
      "Epoch: 049 | Train ACC: 0.867 | Cost: 0.327\n",
      "Epoch: 050 | Train ACC: 0.867 | Cost: 0.326\n",
      "Epoch: 051 | Train ACC: 0.875 | Cost: 0.325\n",
      "Epoch: 052 | Train ACC: 0.875 | Cost: 0.324\n",
      "Epoch: 053 | Train ACC: 0.875 | Cost: 0.323\n",
      "Epoch: 054 | Train ACC: 0.875 | Cost: 0.323\n",
      "Epoch: 055 | Train ACC: 0.875 | Cost: 0.322\n",
      "Epoch: 056 | Train ACC: 0.875 | Cost: 0.321\n",
      "Epoch: 057 | Train ACC: 0.875 | Cost: 0.320\n",
      "Epoch: 058 | Train ACC: 0.883 | Cost: 0.319\n",
      "Epoch: 059 | Train ACC: 0.883 | Cost: 0.318\n",
      "Epoch: 060 | Train ACC: 0.883 | Cost: 0.317\n",
      "Epoch: 061 | Train ACC: 0.883 | Cost: 0.316\n",
      "Epoch: 062 | Train ACC: 0.883 | Cost: 0.316\n",
      "Epoch: 063 | Train ACC: 0.883 | Cost: 0.315\n",
      "Epoch: 064 | Train ACC: 0.883 | Cost: 0.314\n",
      "Epoch: 065 | Train ACC: 0.883 | Cost: 0.313\n",
      "Epoch: 066 | Train ACC: 0.892 | Cost: 0.312\n",
      "Epoch: 067 | Train ACC: 0.892 | Cost: 0.312\n",
      "Epoch: 068 | Train ACC: 0.892 | Cost: 0.311\n",
      "Epoch: 069 | Train ACC: 0.892 | Cost: 0.310\n",
      "Epoch: 070 | Train ACC: 0.892 | Cost: 0.309\n",
      "Epoch: 071 | Train ACC: 0.892 | Cost: 0.308\n",
      "Epoch: 072 | Train ACC: 0.892 | Cost: 0.308\n",
      "Epoch: 073 | Train ACC: 0.892 | Cost: 0.307\n",
      "Epoch: 074 | Train ACC: 0.892 | Cost: 0.306\n",
      "Epoch: 075 | Train ACC: 0.892 | Cost: 0.305\n",
      "Epoch: 076 | Train ACC: 0.892 | Cost: 0.305\n",
      "Epoch: 077 | Train ACC: 0.892 | Cost: 0.304\n",
      "Epoch: 078 | Train ACC: 0.892 | Cost: 0.303\n",
      "Epoch: 079 | Train ACC: 0.892 | Cost: 0.302\n",
      "Epoch: 080 | Train ACC: 0.892 | Cost: 0.302\n",
      "Epoch: 081 | Train ACC: 0.892 | Cost: 0.301\n",
      "Epoch: 082 | Train ACC: 0.892 | Cost: 0.300\n",
      "Epoch: 083 | Train ACC: 0.892 | Cost: 0.300\n",
      "Epoch: 084 | Train ACC: 0.892 | Cost: 0.299\n",
      "Epoch: 085 | Train ACC: 0.892 | Cost: 0.298\n",
      "Epoch: 086 | Train ACC: 0.892 | Cost: 0.298\n",
      "Epoch: 087 | Train ACC: 0.892 | Cost: 0.297\n",
      "Epoch: 088 | Train ACC: 0.892 | Cost: 0.296\n",
      "Epoch: 089 | Train ACC: 0.892 | Cost: 0.295\n",
      "Epoch: 090 | Train ACC: 0.892 | Cost: 0.295\n",
      "Epoch: 091 | Train ACC: 0.892 | Cost: 0.294\n",
      "Epoch: 092 | Train ACC: 0.892 | Cost: 0.293\n",
      "Epoch: 093 | Train ACC: 0.892 | Cost: 0.293\n",
      "Epoch: 094 | Train ACC: 0.892 | Cost: 0.292\n",
      "Epoch: 095 | Train ACC: 0.900 | Cost: 0.292\n",
      "Epoch: 096 | Train ACC: 0.900 | Cost: 0.291\n",
      "Epoch: 097 | Train ACC: 0.900 | Cost: 0.290\n",
      "Epoch: 098 | Train ACC: 0.900 | Cost: 0.290\n",
      "Epoch: 099 | Train ACC: 0.908 | Cost: 0.289\n",
      "Epoch: 100 | Train ACC: 0.908 | Cost: 0.288\n"
     ]
    }
   ],
   "source": [
    "num_epochs = 100\n",
    "for epoch in range(num_epochs):\n",
    "    #### Compute outputs ####\n",
    "    logits, probas = model2(X_train_tensor)\n",
    "    #### Compute gradients ####\n",
    "    cost = F.cross_entropy(logits, y_train_tensor.long())\n",
    "    optimizer.zero_grad()\n",
    "    cost.backward()\n",
    "    #### Update weights ####\n",
    "    optimizer.step()\n",
    "    #### Logging ####\n",
    "    logits, probas = model2(X_train_tensor)\n",
    "    acc = comp_accuracy(y_train_tensor, torch.argmax(probas, dim=1))\n",
    "    print('Epoch: %03d' % (epoch + 1), end=\"\")\n",
    "    print(' | Train ACC: %.3f' % acc, end=\"\")\n",
    "    print(' | Cost: %.3f' % F.cross_entropy(logits, y_train_tensor.long()))"
   ]
  },
  {
   "cell_type": "code",
   "execution_count": 14,
   "id": "fe07e161",
   "metadata": {},
   "outputs": [
    {
     "name": "stdout",
     "output_type": "stream",
     "text": [
      "\n",
      "Model parameters:\n",
      " Weights: Parameter containing:\n",
      "tensor([[-0.4836,  0.4746, -0.6741, -0.6342],\n",
      "        [ 0.1270, -0.4679,  0.1336, -0.0367],\n",
      "        [ 0.3567, -0.0067,  0.5405,  0.6709]], requires_grad=True)\n",
      " Bias: Parameter containing:\n",
      "tensor([-0.0799,  0.1491, -0.0692], requires_grad=True)\n"
     ]
    }
   ],
   "source": [
    "print('\\nModel parameters:')\n",
    "print(' Weights: %s' % model2.linear.weight)\n",
    "print(' Bias: %s' % model2.linear.bias)"
   ]
  },
  {
   "cell_type": "code",
   "execution_count": 15,
   "id": "9725d481",
   "metadata": {},
   "outputs": [
    {
     "name": "stdout",
     "output_type": "stream",
     "text": [
      "Test set accuracy: 90.00%\n"
     ]
    }
   ],
   "source": [
    "test_acc = model2.evaluate(X_test_tensor, y_test_tensor)\n",
    "print('Test set accuracy: %.2f%%' % (test_acc*100))\n"
   ]
  }
 ],
 "metadata": {
  "kernelspec": {
   "display_name": "Python 3",
   "language": "python",
   "name": "python3"
  },
  "language_info": {
   "codemirror_mode": {
    "name": "ipython",
    "version": 3
   },
   "file_extension": ".py",
   "mimetype": "text/x-python",
   "name": "python",
   "nbconvert_exporter": "python",
   "pygments_lexer": "ipython3",
   "version": "3.11.9"
  }
 },
 "nbformat": 4,
 "nbformat_minor": 5
}
